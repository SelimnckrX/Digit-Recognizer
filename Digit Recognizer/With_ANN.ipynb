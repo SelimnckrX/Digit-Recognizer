{
 "cells": [
  {
   "cell_type": "code",
   "execution_count": 1,
   "metadata": {
    "_cell_guid": "b1076dfc-b9ad-4769-8c92-a6c4dae69d19",
    "_uuid": "8f2839f25d086af736a60e9eeb907d3b93b6e0e5",
    "execution": {
     "iopub.execute_input": "2023-01-04T21:06:09.827379Z",
     "iopub.status.busy": "2023-01-04T21:06:09.826903Z",
     "iopub.status.idle": "2023-01-04T21:06:09.888880Z",
     "shell.execute_reply": "2023-01-04T21:06:09.887648Z",
     "shell.execute_reply.started": "2023-01-04T21:06:09.827291Z"
    }
   },
   "outputs": [],
   "source": [
    "import numpy as np \n",
    "import pandas as pd "
   ]
  },
  {
   "cell_type": "code",
   "execution_count": 2,
   "metadata": {
    "execution": {
     "iopub.execute_input": "2023-01-04T21:06:09.892322Z",
     "iopub.status.busy": "2023-01-04T21:06:09.891521Z",
     "iopub.status.idle": "2023-01-04T21:06:17.247238Z",
     "shell.execute_reply": "2023-01-04T21:06:17.246246Z",
     "shell.execute_reply.started": "2023-01-04T21:06:09.892277Z"
    }
   },
   "outputs": [],
   "source": [
    "\n",
    "import tensorflow as tf\n",
    "from tensorflow import keras\n",
    "import matplotlib.pyplot as plt\n",
    "mnist = keras.datasets.mnist\n",
    "(x_train_full, y_train_full),(x_test, y_test) = mnist.load_data()"
   ]
  },
  {
   "cell_type": "code",
   "execution_count": 3,
   "metadata": {
    "execution": {
     "iopub.execute_input": "2023-01-04T21:06:17.249204Z",
     "iopub.status.busy": "2023-01-04T21:06:17.248591Z",
     "iopub.status.idle": "2023-01-04T21:06:17.470146Z",
     "shell.execute_reply": "2023-01-04T21:06:17.468954Z",
     "shell.execute_reply.started": "2023-01-04T21:06:17.249170Z"
    }
   },
   "outputs": [
    {
     "name": "stdout",
     "output_type": "stream",
     "text": [
      "x_train :  (55000, 28, 28)\n",
      "x_valid :  (5000, 28, 28)\n",
      "y_train :  (55000,)\n",
      "y_valid :  (5000,)\n"
     ]
    }
   ],
   "source": [
    "x_train_norm = x_train_full/255.\n",
    "x_test_norm = x_test/255.\n",
    "\n",
    "x_valid, x_train = x_train_norm[:5000], x_train_norm[5000:]\n",
    "y_valid, y_train = y_train_full[:5000], y_train_full[5000:]\n",
    "\n",
    "x_test = x_test_norm\n",
    "print(\"x_train : \",x_train.shape)\n",
    "print(\"x_valid : \",x_valid.shape)\n",
    "print(\"y_train : \",y_train.shape)\n",
    "print(\"y_valid : \",y_valid.shape)"
   ]
  },
  {
   "cell_type": "code",
   "execution_count": 4,
   "metadata": {
    "execution": {
     "iopub.execute_input": "2023-01-04T21:06:17.472958Z",
     "iopub.status.busy": "2023-01-04T21:06:17.472607Z",
     "iopub.status.idle": "2023-01-04T21:06:17.478222Z",
     "shell.execute_reply": "2023-01-04T21:06:17.477076Z",
     "shell.execute_reply.started": "2023-01-04T21:06:17.472926Z"
    }
   },
   "outputs": [],
   "source": [
    "np.random.seed(42)\n",
    "tf.random.set_seed(42)"
   ]
  },
  {
   "cell_type": "markdown",
   "metadata": {},
   "source": [
    "## Yapay Sinir Ağları (Artificial Neural Network (ANN))\n",
    "* Yapay sinir ağları ,insan beyninden esinlenilerek geliştirilmiş bir mekanizmadır.\n",
    "* ANN’nin temel bileşeni yapay nöronlardır.\n",
    "* Her nöron, diğer birkaç nörondan girdi alır, bunları atanan ağırlıklarla çarpar, ekler ve toplamı bir veya daha fazla nörona aktarır.\n",
    "* Bazı yapay nöronlar, çıktıyı bir sonraki değişkene geçirmeden önce çıktıya bir aktivasyon işlevi uygulayabilir.\n",
    "* Bu işlem aşağıda görülmektedir.\n",
    "\n",
    "<a href=\"https://ece-akdagli.medium.com/yapay-sinir-a%C4%9Flar%C4%B1-artificial-neural-network-ann-d7846dfcb022#:~:text=Yapay%20sinir%20a%C4%9Flar%C4%B1%20%2Cinsan%20beyninden,nin%20temel%20bile%C5%9Feni%20yapay%20n%C3%B6ronlard%C4%B1r..\"><img src=\"https://miro.medium.com/max/720/0*4MJcFAK9xkGbctxb\" alt=\"gec2\" border=\"0\"></a>"
   ]
  },
  {
   "cell_type": "markdown",
   "metadata": {},
   "source": [
    "* ANN, üç ana katmanda incelenir: Giriş Katmanı, Ara (Gizli) Katmanlar ve Çıkış Katmanı. Görselde katmanlar verilmiştir.\n",
    "\n",
    "<a href=\"https://ece-akdagli.medium.com/yapay-sinir-a%C4%9Flar%C4%B1-artificial-neural-network-ann-d7846dfcb022#:~:text=Yapay%20sinir%20a%C4%9Flar%C4%B1%20%2Cinsan%20beyninden,nin%20temel%20bile%C5%9Feni%20yapay%20n%C3%B6ronlard%C4%B1r..\"><img src=\"https://miro.medium.com/max/640/0*dW2oW3cIxLxyUyPq.webp\" alt=\"gec2\" border=\"0\"></a>"
   ]
  },
  {
   "cell_type": "markdown",
   "metadata": {},
   "source": [
    "* Sinir ağımız forward propagation ile ileri yayılarak bir predict değeri elde eder\n",
    "* predict değerimizi gerçek olan değer ile kıyaslayıp bir loss değeri elde ederiz\n",
    "* lost değerimiz ile backward propagation  yaparak weight ve biaslarımızı eğitiriz \n",
    "* aşağıda işlemleri görebilirsiniz\n",
    "\n",
    "<a href=\"https://medium.com/analytics-vidhya/backpropagation-for-dummies-e069410fa585..\"><img src=\"https://miro.medium.com/max/640/1*VF9xl3cZr2_qyoLfDJajZw.gif\" alt=\"gec2\" border=\"0\"></a>"
   ]
  },
  {
   "cell_type": "code",
   "execution_count": 5,
   "metadata": {
    "execution": {
     "iopub.execute_input": "2023-01-04T21:06:17.479940Z",
     "iopub.status.busy": "2023-01-04T21:06:17.479636Z",
     "iopub.status.idle": "2023-01-04T21:06:17.607531Z",
     "shell.execute_reply": "2023-01-04T21:06:17.606277Z",
     "shell.execute_reply.started": "2023-01-04T21:06:17.479912Z"
    }
   },
   "outputs": [],
   "source": [
    "model = keras.models.Sequential()\n",
    "\n",
    "model.add(keras.layers.Flatten(input_shape=[28,28]))\n",
    "model.add(keras.layers.Dense(256, activation=\"relu\"))\n",
    "model.add(keras.layers.Dense(50, activation=\"relu\"))\n",
    "model.add(keras.layers.Dense(10, activation=\"softmax\"))"
   ]
  },
  {
   "cell_type": "code",
   "execution_count": 6,
   "metadata": {
    "execution": {
     "iopub.execute_input": "2023-01-04T21:06:17.609085Z",
     "iopub.status.busy": "2023-01-04T21:06:17.608759Z",
     "iopub.status.idle": "2023-01-04T21:06:17.788727Z",
     "shell.execute_reply": "2023-01-04T21:06:17.787406Z",
     "shell.execute_reply.started": "2023-01-04T21:06:17.609056Z"
    }
   },
   "outputs": [],
   "source": [
    "model.compile(loss=\"sparse_categorical_crossentropy\",\n",
    "              optimizer=\"sgd\", # stocastic gradient descent\n",
    "              metrics=[\"accuracy\"])"
   ]
  },
  {
   "cell_type": "code",
   "execution_count": 7,
   "metadata": {
    "execution": {
     "iopub.execute_input": "2023-01-04T21:06:17.791406Z",
     "iopub.status.busy": "2023-01-04T21:06:17.790602Z",
     "iopub.status.idle": "2023-01-04T21:07:04.537674Z",
     "shell.execute_reply": "2023-01-04T21:07:04.536387Z",
     "shell.execute_reply.started": "2023-01-04T21:06:17.791372Z"
    }
   },
   "outputs": [
    {
     "name": "stdout",
     "output_type": "stream",
     "text": [
      "Epoch 1/10\n",
      "1719/1719 [==============================] - 6s 3ms/step - loss: 0.6196 - accuracy: 0.8321 - val_loss: 0.3105 - val_accuracy: 0.9130\n",
      "Epoch 2/10\n",
      "1719/1719 [==============================] - 5s 3ms/step - loss: 0.2907 - accuracy: 0.9179 - val_loss: 0.2414 - val_accuracy: 0.9304\n",
      "Epoch 3/10\n",
      "1719/1719 [==============================] - 5s 3ms/step - loss: 0.2359 - accuracy: 0.9329 - val_loss: 0.1983 - val_accuracy: 0.9450\n",
      "Epoch 4/10\n",
      "1719/1719 [==============================] - 5s 3ms/step - loss: 0.2000 - accuracy: 0.9429 - val_loss: 0.1741 - val_accuracy: 0.9546\n",
      "Epoch 5/10\n",
      "1719/1719 [==============================] - 5s 3ms/step - loss: 0.1738 - accuracy: 0.9507 - val_loss: 0.1546 - val_accuracy: 0.9564\n",
      "Epoch 6/10\n",
      "1719/1719 [==============================] - 5s 3ms/step - loss: 0.1539 - accuracy: 0.9569 - val_loss: 0.1409 - val_accuracy: 0.9638\n",
      "Epoch 7/10\n",
      "1719/1719 [==============================] - 5s 3ms/step - loss: 0.1377 - accuracy: 0.9609 - val_loss: 0.1301 - val_accuracy: 0.9646\n",
      "Epoch 8/10\n",
      "1719/1719 [==============================] - 5s 3ms/step - loss: 0.1246 - accuracy: 0.9651 - val_loss: 0.1261 - val_accuracy: 0.9668\n",
      "Epoch 9/10\n",
      "1719/1719 [==============================] - 6s 3ms/step - loss: 0.1136 - accuracy: 0.9687 - val_loss: 0.1158 - val_accuracy: 0.9678\n",
      "Epoch 10/10\n",
      "1719/1719 [==============================] - 6s 3ms/step - loss: 0.1044 - accuracy: 0.9709 - val_loss: 0.1078 - val_accuracy: 0.9698\n"
     ]
    }
   ],
   "source": [
    "model_history = model.fit(x_train,y_train,epochs=10,validation_data=(x_valid,y_valid))"
   ]
  }
 ],
 "metadata": {
  "kernelspec": {
   "display_name": "Python 3 (ipykernel)",
   "language": "python",
   "name": "python3"
  },
  "language_info": {
   "codemirror_mode": {
    "name": "ipython",
    "version": 3
   },
   "file_extension": ".py",
   "mimetype": "text/x-python",
   "name": "python",
   "nbconvert_exporter": "python",
   "pygments_lexer": "ipython3",
   "version": "3.10.9"
  }
 },
 "nbformat": 4,
 "nbformat_minor": 4
}
