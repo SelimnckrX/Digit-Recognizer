{
 "cells": [
  {
   "cell_type": "code",
   "execution_count": 1,
   "id": "7b95bd78",
   "metadata": {},
   "outputs": [],
   "source": [
    "import numpy as np \n",
    "import pandas as pd \n",
    "import seaborn as sns\n",
    "import matplotlib.pyplot as plt\n",
    "# import warnings\n",
    "import warnings\n",
    "# filter warnings\n",
    "warnings.filterwarnings('ignore')\n"
   ]
  },
  {
   "cell_type": "code",
   "execution_count": 2,
   "id": "1770fcc1",
   "metadata": {},
   "outputs": [
    {
     "name": "stdout",
     "output_type": "stream",
     "text": [
      "(42000, 785)\n"
     ]
    },
    {
     "data": {
      "text/html": [
       "<div>\n",
       "<style scoped>\n",
       "    .dataframe tbody tr th:only-of-type {\n",
       "        vertical-align: middle;\n",
       "    }\n",
       "\n",
       "    .dataframe tbody tr th {\n",
       "        vertical-align: top;\n",
       "    }\n",
       "\n",
       "    .dataframe thead th {\n",
       "        text-align: right;\n",
       "    }\n",
       "</style>\n",
       "<table border=\"1\" class=\"dataframe\">\n",
       "  <thead>\n",
       "    <tr style=\"text-align: right;\">\n",
       "      <th></th>\n",
       "      <th>label</th>\n",
       "      <th>pixel0</th>\n",
       "      <th>pixel1</th>\n",
       "      <th>pixel2</th>\n",
       "      <th>pixel3</th>\n",
       "      <th>pixel4</th>\n",
       "      <th>pixel5</th>\n",
       "      <th>pixel6</th>\n",
       "      <th>pixel7</th>\n",
       "      <th>pixel8</th>\n",
       "      <th>...</th>\n",
       "      <th>pixel774</th>\n",
       "      <th>pixel775</th>\n",
       "      <th>pixel776</th>\n",
       "      <th>pixel777</th>\n",
       "      <th>pixel778</th>\n",
       "      <th>pixel779</th>\n",
       "      <th>pixel780</th>\n",
       "      <th>pixel781</th>\n",
       "      <th>pixel782</th>\n",
       "      <th>pixel783</th>\n",
       "    </tr>\n",
       "  </thead>\n",
       "  <tbody>\n",
       "    <tr>\n",
       "      <th>0</th>\n",
       "      <td>1</td>\n",
       "      <td>0</td>\n",
       "      <td>0</td>\n",
       "      <td>0</td>\n",
       "      <td>0</td>\n",
       "      <td>0</td>\n",
       "      <td>0</td>\n",
       "      <td>0</td>\n",
       "      <td>0</td>\n",
       "      <td>0</td>\n",
       "      <td>...</td>\n",
       "      <td>0</td>\n",
       "      <td>0</td>\n",
       "      <td>0</td>\n",
       "      <td>0</td>\n",
       "      <td>0</td>\n",
       "      <td>0</td>\n",
       "      <td>0</td>\n",
       "      <td>0</td>\n",
       "      <td>0</td>\n",
       "      <td>0</td>\n",
       "    </tr>\n",
       "    <tr>\n",
       "      <th>1</th>\n",
       "      <td>0</td>\n",
       "      <td>0</td>\n",
       "      <td>0</td>\n",
       "      <td>0</td>\n",
       "      <td>0</td>\n",
       "      <td>0</td>\n",
       "      <td>0</td>\n",
       "      <td>0</td>\n",
       "      <td>0</td>\n",
       "      <td>0</td>\n",
       "      <td>...</td>\n",
       "      <td>0</td>\n",
       "      <td>0</td>\n",
       "      <td>0</td>\n",
       "      <td>0</td>\n",
       "      <td>0</td>\n",
       "      <td>0</td>\n",
       "      <td>0</td>\n",
       "      <td>0</td>\n",
       "      <td>0</td>\n",
       "      <td>0</td>\n",
       "    </tr>\n",
       "    <tr>\n",
       "      <th>2</th>\n",
       "      <td>1</td>\n",
       "      <td>0</td>\n",
       "      <td>0</td>\n",
       "      <td>0</td>\n",
       "      <td>0</td>\n",
       "      <td>0</td>\n",
       "      <td>0</td>\n",
       "      <td>0</td>\n",
       "      <td>0</td>\n",
       "      <td>0</td>\n",
       "      <td>...</td>\n",
       "      <td>0</td>\n",
       "      <td>0</td>\n",
       "      <td>0</td>\n",
       "      <td>0</td>\n",
       "      <td>0</td>\n",
       "      <td>0</td>\n",
       "      <td>0</td>\n",
       "      <td>0</td>\n",
       "      <td>0</td>\n",
       "      <td>0</td>\n",
       "    </tr>\n",
       "    <tr>\n",
       "      <th>3</th>\n",
       "      <td>4</td>\n",
       "      <td>0</td>\n",
       "      <td>0</td>\n",
       "      <td>0</td>\n",
       "      <td>0</td>\n",
       "      <td>0</td>\n",
       "      <td>0</td>\n",
       "      <td>0</td>\n",
       "      <td>0</td>\n",
       "      <td>0</td>\n",
       "      <td>...</td>\n",
       "      <td>0</td>\n",
       "      <td>0</td>\n",
       "      <td>0</td>\n",
       "      <td>0</td>\n",
       "      <td>0</td>\n",
       "      <td>0</td>\n",
       "      <td>0</td>\n",
       "      <td>0</td>\n",
       "      <td>0</td>\n",
       "      <td>0</td>\n",
       "    </tr>\n",
       "    <tr>\n",
       "      <th>4</th>\n",
       "      <td>0</td>\n",
       "      <td>0</td>\n",
       "      <td>0</td>\n",
       "      <td>0</td>\n",
       "      <td>0</td>\n",
       "      <td>0</td>\n",
       "      <td>0</td>\n",
       "      <td>0</td>\n",
       "      <td>0</td>\n",
       "      <td>0</td>\n",
       "      <td>...</td>\n",
       "      <td>0</td>\n",
       "      <td>0</td>\n",
       "      <td>0</td>\n",
       "      <td>0</td>\n",
       "      <td>0</td>\n",
       "      <td>0</td>\n",
       "      <td>0</td>\n",
       "      <td>0</td>\n",
       "      <td>0</td>\n",
       "      <td>0</td>\n",
       "    </tr>\n",
       "  </tbody>\n",
       "</table>\n",
       "<p>5 rows × 785 columns</p>\n",
       "</div>"
      ],
      "text/plain": [
       "   label  pixel0  pixel1  pixel2  pixel3  pixel4  pixel5  pixel6  pixel7  \\\n",
       "0      1       0       0       0       0       0       0       0       0   \n",
       "1      0       0       0       0       0       0       0       0       0   \n",
       "2      1       0       0       0       0       0       0       0       0   \n",
       "3      4       0       0       0       0       0       0       0       0   \n",
       "4      0       0       0       0       0       0       0       0       0   \n",
       "\n",
       "   pixel8  ...  pixel774  pixel775  pixel776  pixel777  pixel778  pixel779  \\\n",
       "0       0  ...         0         0         0         0         0         0   \n",
       "1       0  ...         0         0         0         0         0         0   \n",
       "2       0  ...         0         0         0         0         0         0   \n",
       "3       0  ...         0         0         0         0         0         0   \n",
       "4       0  ...         0         0         0         0         0         0   \n",
       "\n",
       "   pixel780  pixel781  pixel782  pixel783  \n",
       "0         0         0         0         0  \n",
       "1         0         0         0         0  \n",
       "2         0         0         0         0  \n",
       "3         0         0         0         0  \n",
       "4         0         0         0         0  \n",
       "\n",
       "[5 rows x 785 columns]"
      ]
     },
     "execution_count": 2,
     "metadata": {},
     "output_type": "execute_result"
    }
   ],
   "source": [
    "# read train \n",
    "train = pd.read_csv(\"train.csv\")\n",
    "print(train.shape)\n",
    "train.head()"
   ]
  },
  {
   "cell_type": "code",
   "execution_count": 3,
   "id": "a40b053a",
   "metadata": {},
   "outputs": [
    {
     "name": "stdout",
     "output_type": "stream",
     "text": [
      "(28000, 784)\n"
     ]
    },
    {
     "data": {
      "text/html": [
       "<div>\n",
       "<style scoped>\n",
       "    .dataframe tbody tr th:only-of-type {\n",
       "        vertical-align: middle;\n",
       "    }\n",
       "\n",
       "    .dataframe tbody tr th {\n",
       "        vertical-align: top;\n",
       "    }\n",
       "\n",
       "    .dataframe thead th {\n",
       "        text-align: right;\n",
       "    }\n",
       "</style>\n",
       "<table border=\"1\" class=\"dataframe\">\n",
       "  <thead>\n",
       "    <tr style=\"text-align: right;\">\n",
       "      <th></th>\n",
       "      <th>pixel0</th>\n",
       "      <th>pixel1</th>\n",
       "      <th>pixel2</th>\n",
       "      <th>pixel3</th>\n",
       "      <th>pixel4</th>\n",
       "      <th>pixel5</th>\n",
       "      <th>pixel6</th>\n",
       "      <th>pixel7</th>\n",
       "      <th>pixel8</th>\n",
       "      <th>pixel9</th>\n",
       "      <th>...</th>\n",
       "      <th>pixel774</th>\n",
       "      <th>pixel775</th>\n",
       "      <th>pixel776</th>\n",
       "      <th>pixel777</th>\n",
       "      <th>pixel778</th>\n",
       "      <th>pixel779</th>\n",
       "      <th>pixel780</th>\n",
       "      <th>pixel781</th>\n",
       "      <th>pixel782</th>\n",
       "      <th>pixel783</th>\n",
       "    </tr>\n",
       "  </thead>\n",
       "  <tbody>\n",
       "    <tr>\n",
       "      <th>0</th>\n",
       "      <td>0</td>\n",
       "      <td>0</td>\n",
       "      <td>0</td>\n",
       "      <td>0</td>\n",
       "      <td>0</td>\n",
       "      <td>0</td>\n",
       "      <td>0</td>\n",
       "      <td>0</td>\n",
       "      <td>0</td>\n",
       "      <td>0</td>\n",
       "      <td>...</td>\n",
       "      <td>0</td>\n",
       "      <td>0</td>\n",
       "      <td>0</td>\n",
       "      <td>0</td>\n",
       "      <td>0</td>\n",
       "      <td>0</td>\n",
       "      <td>0</td>\n",
       "      <td>0</td>\n",
       "      <td>0</td>\n",
       "      <td>0</td>\n",
       "    </tr>\n",
       "    <tr>\n",
       "      <th>1</th>\n",
       "      <td>0</td>\n",
       "      <td>0</td>\n",
       "      <td>0</td>\n",
       "      <td>0</td>\n",
       "      <td>0</td>\n",
       "      <td>0</td>\n",
       "      <td>0</td>\n",
       "      <td>0</td>\n",
       "      <td>0</td>\n",
       "      <td>0</td>\n",
       "      <td>...</td>\n",
       "      <td>0</td>\n",
       "      <td>0</td>\n",
       "      <td>0</td>\n",
       "      <td>0</td>\n",
       "      <td>0</td>\n",
       "      <td>0</td>\n",
       "      <td>0</td>\n",
       "      <td>0</td>\n",
       "      <td>0</td>\n",
       "      <td>0</td>\n",
       "    </tr>\n",
       "    <tr>\n",
       "      <th>2</th>\n",
       "      <td>0</td>\n",
       "      <td>0</td>\n",
       "      <td>0</td>\n",
       "      <td>0</td>\n",
       "      <td>0</td>\n",
       "      <td>0</td>\n",
       "      <td>0</td>\n",
       "      <td>0</td>\n",
       "      <td>0</td>\n",
       "      <td>0</td>\n",
       "      <td>...</td>\n",
       "      <td>0</td>\n",
       "      <td>0</td>\n",
       "      <td>0</td>\n",
       "      <td>0</td>\n",
       "      <td>0</td>\n",
       "      <td>0</td>\n",
       "      <td>0</td>\n",
       "      <td>0</td>\n",
       "      <td>0</td>\n",
       "      <td>0</td>\n",
       "    </tr>\n",
       "    <tr>\n",
       "      <th>3</th>\n",
       "      <td>0</td>\n",
       "      <td>0</td>\n",
       "      <td>0</td>\n",
       "      <td>0</td>\n",
       "      <td>0</td>\n",
       "      <td>0</td>\n",
       "      <td>0</td>\n",
       "      <td>0</td>\n",
       "      <td>0</td>\n",
       "      <td>0</td>\n",
       "      <td>...</td>\n",
       "      <td>0</td>\n",
       "      <td>0</td>\n",
       "      <td>0</td>\n",
       "      <td>0</td>\n",
       "      <td>0</td>\n",
       "      <td>0</td>\n",
       "      <td>0</td>\n",
       "      <td>0</td>\n",
       "      <td>0</td>\n",
       "      <td>0</td>\n",
       "    </tr>\n",
       "    <tr>\n",
       "      <th>4</th>\n",
       "      <td>0</td>\n",
       "      <td>0</td>\n",
       "      <td>0</td>\n",
       "      <td>0</td>\n",
       "      <td>0</td>\n",
       "      <td>0</td>\n",
       "      <td>0</td>\n",
       "      <td>0</td>\n",
       "      <td>0</td>\n",
       "      <td>0</td>\n",
       "      <td>...</td>\n",
       "      <td>0</td>\n",
       "      <td>0</td>\n",
       "      <td>0</td>\n",
       "      <td>0</td>\n",
       "      <td>0</td>\n",
       "      <td>0</td>\n",
       "      <td>0</td>\n",
       "      <td>0</td>\n",
       "      <td>0</td>\n",
       "      <td>0</td>\n",
       "    </tr>\n",
       "  </tbody>\n",
       "</table>\n",
       "<p>5 rows × 784 columns</p>\n",
       "</div>"
      ],
      "text/plain": [
       "   pixel0  pixel1  pixel2  pixel3  pixel4  pixel5  pixel6  pixel7  pixel8  \\\n",
       "0       0       0       0       0       0       0       0       0       0   \n",
       "1       0       0       0       0       0       0       0       0       0   \n",
       "2       0       0       0       0       0       0       0       0       0   \n",
       "3       0       0       0       0       0       0       0       0       0   \n",
       "4       0       0       0       0       0       0       0       0       0   \n",
       "\n",
       "   pixel9  ...  pixel774  pixel775  pixel776  pixel777  pixel778  pixel779  \\\n",
       "0       0  ...         0         0         0         0         0         0   \n",
       "1       0  ...         0         0         0         0         0         0   \n",
       "2       0  ...         0         0         0         0         0         0   \n",
       "3       0  ...         0         0         0         0         0         0   \n",
       "4       0  ...         0         0         0         0         0         0   \n",
       "\n",
       "   pixel780  pixel781  pixel782  pixel783  \n",
       "0         0         0         0         0  \n",
       "1         0         0         0         0  \n",
       "2         0         0         0         0  \n",
       "3         0         0         0         0  \n",
       "4         0         0         0         0  \n",
       "\n",
       "[5 rows x 784 columns]"
      ]
     },
     "execution_count": 3,
     "metadata": {},
     "output_type": "execute_result"
    }
   ],
   "source": [
    "# read test \n",
    "test= pd.read_csv(\"test.csv\")\n",
    "print(test.shape)\n",
    "test.head()"
   ]
  },
  {
   "cell_type": "code",
   "execution_count": 4,
   "id": "29735816",
   "metadata": {},
   "outputs": [],
   "source": [
    "# put labels into y_train variable\n",
    "Y_train = train[\"label\"]\n",
    "# Drop 'label' column\n",
    "X_train = train.drop(labels = [\"label\"],axis = 1)"
   ]
  },
  {
   "cell_type": "code",
   "execution_count": 5,
   "id": "09cdbe89",
   "metadata": {},
   "outputs": [
    {
     "data": {
      "text/plain": [
       "1    4684\n",
       "7    4401\n",
       "3    4351\n",
       "9    4188\n",
       "2    4177\n",
       "6    4137\n",
       "0    4132\n",
       "4    4072\n",
       "8    4063\n",
       "5    3795\n",
       "Name: label, dtype: int64"
      ]
     },
     "execution_count": 5,
     "metadata": {},
     "output_type": "execute_result"
    }
   ],
   "source": [
    "Y_train.value_counts()"
   ]
  },
  {
   "cell_type": "code",
   "execution_count": 6,
   "id": "a8c0e2ef",
   "metadata": {},
   "outputs": [
    {
     "name": "stdout",
     "output_type": "stream",
     "text": [
      "x_train shape:  (42000, 784)\n",
      "test shape:  (28000, 784)\n"
     ]
    }
   ],
   "source": [
    "# Normalize the data\n",
    "X_train = X_train / 255.0\n",
    "test = test / 255.0\n",
    "print(\"x_train shape: \",X_train.shape)\n",
    "print(\"test shape: \",test.shape)"
   ]
  },
  {
   "cell_type": "code",
   "execution_count": 7,
   "id": "87b6eeda",
   "metadata": {},
   "outputs": [
    {
     "name": "stdout",
     "output_type": "stream",
     "text": [
      "x_train shape:  (42000, 28, 28, 1)\n",
      "test shape:  (28000, 28, 28, 1)\n"
     ]
    }
   ],
   "source": [
    "# Reshape\n",
    "X_train = X_train.values.reshape(-1,28,28,1)\n",
    "test = test.values.reshape(-1,28,28,1)\n",
    "print(\"x_train shape: \",X_train.shape)\n",
    "print(\"test shape: \",test.shape)"
   ]
  },
  {
   "cell_type": "code",
   "execution_count": 8,
   "id": "4e7868b9",
   "metadata": {},
   "outputs": [],
   "source": [
    "# Label Encoding \n",
    "from keras.utils.np_utils import to_categorical # convert to one-hot-encoding\n",
    "Y_train = to_categorical(Y_train, num_classes = 10)"
   ]
  },
  {
   "cell_type": "code",
   "execution_count": 9,
   "id": "dbfbb2e6",
   "metadata": {},
   "outputs": [
    {
     "name": "stdout",
     "output_type": "stream",
     "text": [
      "x_train shape (37800, 28, 28, 1)\n",
      "x_test shape (4200, 28, 28, 1)\n",
      "y_train shape (37800, 10)\n",
      "y_test shape (4200, 10)\n"
     ]
    }
   ],
   "source": [
    "# Split the train and the validation set for the fitting\n",
    "from sklearn.model_selection import train_test_split\n",
    "X_train, X_test, Y_train, Y_test = train_test_split(X_train, Y_train, test_size = 0.1, random_state=2)\n",
    "print(\"x_train shape\",X_train.shape)\n",
    "print(\"x_test shape\",X_test.shape)\n",
    "print(\"y_train shape\",Y_train.shape)\n",
    "print(\"y_test shape\",Y_test.shape)"
   ]
  },
  {
   "cell_type": "code",
   "execution_count": 10,
   "id": "c0c78d6d",
   "metadata": {},
   "outputs": [
    {
     "data": {
      "image/png": "[encoded data removed]",
      "text/plain": [
       "<Figure size 640x480 with 1 Axes>"
      ]
     },
     "metadata": {},
     "output_type": "display_data"
    }
   ],
   "source": [
    "plt.imshow(X_train[2][:,:,0],cmap='gray')\n",
    "plt.show()"
   ]
  },
  {
   "cell_type": "markdown",
   "id": "1655cf02",
   "metadata": {},
   "source": [
    "* CNN genellikle görüntü işlemede kullanılan ve girdi olarak görselleri alan bir derin öğrenme algoritmasıdır.\n",
    "* Farklı operasyonlarla görsellerdeki featureları (özellikleri) yakalayan ve onları sınıflandıran bu algoritma farklı katmanlardan oluşmaktadır.\n",
    "* Convolutional Layer, Pooling ve Fully Connected olan bu katmanlardan geçen görsel, farklı işlemlere tabii tutularak derin öğrenme modeline girecek kıvama gelir.\n",
    "* CNN modelleri oluştururken, unstructural (düzensiz) veri ile uğraştığımızdan klasik makine öğrenmesi algoritmalarına kıyasla veri ön işleme kısmında çok uğraşmamaktayız.\n",
    "* CNN, görüntü sınıflandırması, nesne algılama için kullanılır\n",
    "\n",
    " <a href=\"https://teknoloji.org/cnn-convolutional-neural-networks-nedir/#:~:text=CNN%20genellikle%20g%C3%B6r%C3%BCnt%C3%BC%20i%C5%9Flemede%20kullan%C4%B1lan,bu%20algoritma%20farkl%C4%B1%20katmanlardan%20olu%C5%9Fmaktad%C4%B1r.\"><img src=\"https://d9v7j6n3.rocketcdn.me/wp-content/uploads/2020/11/cnn-1024x235.png.webp\" alt=\"gec2\" border=\"0\"></a>"
   ]
  },
  {
   "cell_type": "markdown",
   "id": "5f59285d",
   "metadata": {},
   "source": [
    "## Convolutional Layer\n",
    "\n",
    "* Convolutional (evrişim katmanı) CNN algoritmalarında görüntüyü ele alan ilk katmandır. \n",
    "* Bilindiği üzere görseller aslında içlerinde belirli değerler taşıyan piksellerden oluşan matrislerdir.\n",
    "* Evrişim katmanında da orijinal görsel boyutlarından daha küçük bir filtre görselin üzerinde gezer ve bu görsellerden belirli özellikleri yakalamaya çalışır.\n",
    "\n",
    "<a href=\"https://teknoloji.org/cnn-convolutional-neural-networks-nedir/#:~:text=CNN%20genellikle%20g%C3%B6r%C3%BCnt%C3%BC%20i%C5%9Flemede%20kullan%C4%B1lan,bu%20algoritma%20farkl%C4%B1%20katmanlardan%20olu%C5%9Fmaktad%C4%B1r.\"><img src=\"https://d9v7j6n3.rocketcdn.me/wp-content/uploads/2020/11/convolutional_operation.gif\" alt=\"gec2\" border=\"0\"></a>"
   ]
  },
  {
   "cell_type": "markdown",
   "id": "955a38e3",
   "metadata": {},
   "source": [
    "* Yukarıda görüldüğü üzere 3×3’lük bir filtre, 5×5’lik bir görsel üzerinde gezdiriliyor.\n",
    "* Çıkan sonuçlar eşitliğin sağ tarafındaki yeni matrisimiz olan feature map üzerine yazılıyor.\n",
    "* CNN algoritmalarında öğrenilen parametreler bu filtrelerdeki değerlerdir.\n",
    "* Model sürekli olarak bu değerleri günceller ve özellikleri daha da iyi tespit etmeye başlar.\n",
    "* Bunun dışında bazı bilinen filtrelerle görseller keskinleştirilebilir, blur eklenebilir, kenar tespiti yapılabilir. Bunlar için kullanılan filtreler aşağıdaki gibidir.\n",
    "\n",
    "<a href=\"https://teknoloji.org/cnn-convolutional-neural-networks-nedir/#:~:text=CNN%20genellikle%20g%C3%B6r%C3%BCnt%C3%BC%20i%C5%9Flemede%20kullan%C4%B1lan,bu%20algoritma%20farkl%C4%B1%20katmanlardan%20olu%C5%9Fmaktad%C4%B1r.\"><img src=\"https://d9v7j6n3.rocketcdn.me/wp-content/uploads/2020/11/CNN-filtreler-nedir.png.webp\" alt=\"gec2\" border=\"0\"></a>"
   ]
  },
  {
   "cell_type": "markdown",
   "id": "5ca6dfc6",
   "metadata": {},
   "source": [
    "## Stride (Adım)\n",
    "* Stride değeri CNN modellerinde parametre olarak değiştirilebilen bir değerdir.\n",
    "* Bu değer filtrenin ana görsel üzerinde kaç piksel boyunca kayacağını belirler.\n",
    "* Örnek vermek gerekirse yukarıdaki evrişim operasyonundaki stride değeri birdir.\n",
    "* Yani filtre sadece bir piksel atlayarak bu işlemi yapar.\n",
    "* Stride 2 olsaydı atladığı piksel sayısı artacağından ortaya çıkacak feature map de daha küçük bir hal alacaktı."
   ]
  },
  {
   "cell_type": "markdown",
   "id": "d2ad8230",
   "metadata": {},
   "source": [
    "## Padding (Dolgu)\n",
    "* Bir görsele filtreyi uyguladığımızda boyutlardan dolayı çıktı orijinal görselden daha küçük olur.\n",
    "* Bunu önlemek için kullanabileceğimiz yöntem ise padding yani dolgulamadır.\n",
    "* Dolgulama işleminde görsele adete bir çerçeve olacakmış gibi dört taraftan da sıfırlar eklenir.\n",
    "* Filtrenin boyutuna göre bu sıfır eklenen katmanlar artırılabilir."
   ]
  },
  {
   "cell_type": "markdown",
   "id": "e8f169f1",
   "metadata": {},
   "source": [
    "## ReLU\n",
    "* ReLU (Rectified Linear Unit) f(x) = max(0,x) şeklinde çalışan doğrusal olmayan bir fonksiyondur.\n",
    "* Örnek vermek gerekirse -25 değerini alan bir ReLU fonksiyonu çıktı olarak 0’ı, 25 değerini alan bir fonksiyon ise 25’i verir. * Ana amacı negatif değerlerden kurtulmak olan ReLU CNN’lerde oldukça önemli bir konumdadır.\n",
    "\n",
    "<a href=\"https://teknoloji.org/cnn-convolutional-neural-networks-nedir/#:~:text=CNN%20genellikle%20g%C3%B6r%C3%BCnt%C3%BC%20i%C5%9Flemede%20kullan%C4%B1lan,bu%20algoritma%20farkl%C4%B1%20katmanlardan%20olu%C5%9Fmaktad%C4%B1r.\"><img src=\"https://d9v7j6n3.rocketcdn.me/wp-content/uploads/2020/11/relu.png.webp\" alt=\"gec2\" border=\"0\"></a>"
   ]
  },
  {
   "cell_type": "markdown",
   "id": "3f37ae76",
   "metadata": {},
   "source": [
    "## Pooling\n",
    "* Evrişimli katman gibi pooling (havuzlama) katmanı da boyutsallığı azaltma amacındadır.\n",
    "* Bu sayede hem gereken işlem gücü azalır hem de yakalanan gereksiz özellikler yok sayılarak daha önemli özelliklere odaklanılır.\n",
    "\n",
    "* CNN modellerinde genellikle kullanılan iki farklı pooling tekniği vardır.\n",
    "* Bunlardan biri Max (Maksimum) diğeri de Average (Ortalama) pooling’tir.\n",
    "\n",
    "<a href=\"https://teknoloji.org/cnn-convolutional-neural-networks-nedir/#:~:text=CNN%20genellikle%20g%C3%B6r%C3%BCnt%C3%BC%20i%C5%9Flemede%20kullan%C4%B1lan,bu%20algoritma%20farkl%C4%B1%20katmanlardan%20olu%C5%9Fmaktad%C4%B1r.\"><img src=\"https://d9v7j6n3.rocketcdn.me/wp-content/uploads/2020/11/pooling.png.webp\" alt=\"gec2\" border=\"0\"></a>"
   ]
  },
  {
   "cell_type": "markdown",
   "id": "560ec663",
   "metadata": {},
   "source": [
    "## Fully Connected Layer (Tam Bağlantılı Katman)\n",
    "* Fully Connected katmanda birkaç kez evrişimli katmandan ve pooling katmanından geçen ve matris halinde olan görselimiz düz bir vektör haline getirilir.\n",
    "\n",
    "<a href=\"https://teknoloji.org/cnn-convolutional-neural-networks-nedir/#:~:text=CNN%20genellikle%20g%C3%B6r%C3%BCnt%C3%BC%20i%C5%9Flemede%20kullan%C4%B1lan,bu%20algoritma%20farkl%C4%B1%20katmanlardan%20olu%C5%9Fmaktad%C4%B1r.\"><img src=\"https://d9v7j6n3.rocketcdn.me/wp-content/uploads/2020/11/fully_connected.png.webp\" alt=\"gec2\" border=\"0\"></a>"
   ]
  },
  {
   "cell_type": "code",
   "execution_count": 11,
   "id": "debce8a2",
   "metadata": {},
   "outputs": [],
   "source": [
    "# \n",
    "from sklearn.metrics import confusion_matrix\n",
    "import itertools\n",
    "\n",
    "from keras.utils.np_utils import to_categorical # convert to one-hot-encoding\n",
    "from keras.models import Sequential\n",
    "from keras.layers import Dense, Dropout, Flatten, Conv2D, MaxPool2D\n",
    "from keras.optimizers import RMSprop,Adam\n",
    "from keras.preprocessing.image import ImageDataGenerator\n",
    "from keras.callbacks import ReduceLROnPlateau\n",
    "\n",
    "model = Sequential()\n",
    "# 1\n",
    "model.add(Conv2D(filters = 8, kernel_size = (5,5),padding = 'Same', \n",
    "                 activation ='relu', input_shape = (28,28,1)))\n",
    "model.add(MaxPool2D(pool_size=(2,2)))\n",
    "model.add(Dropout(0.25))\n",
    "\n",
    "# 2\n",
    "model.add(Conv2D(filters = 16, kernel_size = (3,3),padding = 'Same', \n",
    "                 activation ='relu'))\n",
    "model.add(MaxPool2D(pool_size=(2,2), strides=(2,2)))\n",
    "model.add(Dropout(0.25))\n",
    "\n",
    "# Conv2D() : convolution oluşturuyoruz \n",
    "# filters = 8 içerisinde uyguladığımız filtre sayısı (istediğimiz kadar yazabiliriz)\n",
    "# kernel_size = (5,5) filtre boyutumuz 5'e 5\n",
    "# padding = 'Same'  veri kaybı olmaması için same padding kullanıyoruz\n",
    "# activation ='relu' aktivasyon fonksiyonumuz\n",
    "# input_shape = (28,28,1) 28,28 x ve y matrisi 1 ise gray scale oluduğunu yani gri renk tonunu belirtiyor \n",
    "# MaxPool2D max Pooling ekliyoruz. Bu ise aldığımız filtrelerdeki verilerin içerisinden maksimum veriyi seçiyor bize\n",
    "# pool_size=(2,2) 2'ye 2 lik bir matrisdeki değerlerin içerisinden maksimum değerini alıyoruz\n",
    "# Dropout(0.25) random bir şekilde  4'de 1 inputu kapat demek. Overfitting'i engellemek için kullanıyoruz\n",
    "\n",
    "# fully connected\n",
    "model.add(Flatten())\n",
    "model.add(Dense(256, activation = \"relu\"))\n",
    "model.add(Dropout(0.5))\n",
    "model.add(Dense(10, activation = \"softmax\"))"
   ]
  },
  {
   "cell_type": "code",
   "execution_count": 12,
   "id": "0745f119",
   "metadata": {},
   "outputs": [],
   "source": [
    "# optimizer\n",
    "optimizer = Adam(lr=0.001, beta_1=0.9, beta_2=0.999)"
   ]
  },
  {
   "cell_type": "code",
   "execution_count": 13,
   "id": "1e76ee21",
   "metadata": {},
   "outputs": [],
   "source": [
    "model.compile(optimizer = optimizer , loss = \"categorical_crossentropy\", metrics=[\"accuracy\"])"
   ]
  },
  {
   "cell_type": "code",
   "execution_count": 14,
   "id": "398a2fd0",
   "metadata": {},
   "outputs": [],
   "source": [
    "epochs = 10  \n",
    "batch_size = 250"
   ]
  },
  {
   "cell_type": "code",
   "execution_count": 15,
   "id": "7dd81499",
   "metadata": {},
   "outputs": [],
   "source": [
    "# data augmentation\n",
    "datagen = ImageDataGenerator(\n",
    "        featurewise_center=False,  # set input mean to 0 over the dataset\n",
    "        samplewise_center=False,  # set each sample mean to 0\n",
    "        featurewise_std_normalization=False,  # divide inputs by std of the dataset\n",
    "        samplewise_std_normalization=False,  # divide each input by its std\n",
    "        zca_whitening=False,  # dimesion reduction\n",
    "        rotation_range=5,  # randomly rotate images in the range 5 degrees\n",
    "        zoom_range = 0.1, # Randomly zoom image 10%\n",
    "        width_shift_range=0.1,  # randomly shift images horizontally 10%\n",
    "        height_shift_range=0.1,  # randomly shift images vertically 10%\n",
    "        horizontal_flip=False,  # randomly flip images\n",
    "        vertical_flip=False)  # randomly flip images\n",
    "\n",
    "datagen.fit(X_train)"
   ]
  },
  {
   "cell_type": "code",
   "execution_count": 16,
   "id": "0263fc87",
   "metadata": {},
   "outputs": [
    {
     "name": "stdout",
     "output_type": "stream",
     "text": [
      "Epoch 1/10\n",
      "151/151 [==============================] - 28s 179ms/step - loss: 1.1417 - accuracy: 0.6174 - val_loss: 0.2159 - val_accuracy: 0.9429\n",
      "Epoch 2/10\n",
      "151/151 [==============================] - 24s 160ms/step - loss: 0.4086 - accuracy: 0.8705 - val_loss: 0.1224 - val_accuracy: 0.9648\n",
      "Epoch 3/10\n",
      "151/151 [==============================] - 25s 166ms/step - loss: 0.2933 - accuracy: 0.9076 - val_loss: 0.0914 - val_accuracy: 0.9724\n",
      "Epoch 4/10\n",
      "151/151 [==============================] - 26s 170ms/step - loss: 0.2506 - accuracy: 0.9223 - val_loss: 0.0801 - val_accuracy: 0.9762\n",
      "Epoch 5/10\n",
      "151/151 [==============================] - 26s 169ms/step - loss: 0.2151 - accuracy: 0.9340 - val_loss: 0.0723 - val_accuracy: 0.9779\n",
      "Epoch 6/10\n",
      "151/151 [==============================] - 25s 167ms/step - loss: 0.1980 - accuracy: 0.9394 - val_loss: 0.0670 - val_accuracy: 0.9798\n",
      "Epoch 7/10\n",
      "151/151 [==============================] - 26s 172ms/step - loss: 0.1829 - accuracy: 0.9431 - val_loss: 0.0602 - val_accuracy: 0.9814\n",
      "Epoch 8/10\n",
      "151/151 [==============================] - 26s 169ms/step - loss: 0.1708 - accuracy: 0.9469 - val_loss: 0.0529 - val_accuracy: 0.9845\n",
      "Epoch 9/10\n",
      "151/151 [==============================] - 26s 170ms/step - loss: 0.1620 - accuracy: 0.9502 - val_loss: 0.0536 - val_accuracy: 0.9826\n",
      "Epoch 10/10\n",
      "151/151 [==============================] - 26s 171ms/step - loss: 0.1562 - accuracy: 0.9522 - val_loss: 0.0509 - val_accuracy: 0.9843\n"
     ]
    }
   ],
   "source": [
    "# Fit the model\n",
    "history = model.fit_generator(datagen.flow(X_train,Y_train, batch_size=batch_size),\n",
    "                              epochs = epochs, validation_data = (X_test,Y_test), steps_per_epoch=X_train.shape[0] // batch_size)"
   ]
  },
  {
   "cell_type": "code",
   "execution_count": 17,
   "id": "8be54b42",
   "metadata": {},
   "outputs": [
    {
     "data": {
      "image/png": "[encoded data removed]",
      "text/plain": [
       "<Figure size 640x480 with 1 Axes>"
      ]
     },
     "metadata": {},
     "output_type": "display_data"
    }
   ],
   "source": [
    "# Plot the loss and accuracy curves for training and validation \n",
    "plt.plot(history.history['val_loss'], color='b', label=\"validation loss\")\n",
    "plt.title(\"Test Loss\")\n",
    "plt.xlabel(\"Number of Epochs\")\n",
    "plt.ylabel(\"Loss\")\n",
    "plt.legend()\n",
    "plt.show()"
   ]
  },
  {
   "cell_type": "code",
   "execution_count": 18,
   "id": "53048a88",
   "metadata": {},
   "outputs": [
    {
     "name": "stdout",
     "output_type": "stream",
     "text": [
      "132/132 [==============================] - 1s 4ms/step\n"
     ]
    },
    {
     "data": {
      "image/png": "[encoded data removed]",
      "text/plain": [
       "<Figure size 800x800 with 2 Axes>"
      ]
     },
     "metadata": {},
     "output_type": "display_data"
    }
   ],
   "source": [
    "# confusion matrix\n",
    "import seaborn as sns\n",
    "\n",
    "Y_pred = model.predict(X_test)\n",
    "Y_pred_classes = np.argmax(Y_pred,axis = 1) \n",
    "Y_true = np.argmax(Y_test,axis = 1) \n",
    "confusion_mtx = confusion_matrix(Y_true, Y_pred_classes) \n",
    "\n",
    "f,ax = plt.subplots(figsize=(8, 8))\n",
    "sns.heatmap(confusion_mtx, annot=True, linewidths=0.01,cmap=\"Greens\",linecolor=\"gray\", fmt= '.1f',ax=ax)\n",
    "plt.xlabel(\"Predicted Label\")\n",
    "plt.ylabel(\"True Label\")\n",
    "plt.title(\"Confusion Matrix\")\n",
    "plt.show()"
   ]
  },
  {
   "cell_type": "code",
   "execution_count": null,
   "id": "25939cff",
   "metadata": {},
   "outputs": [],
   "source": []
  }
 ],
 "metadata": {
  "kernelspec": {
   "display_name": "Python 3 (ipykernel)",
   "language": "python",
   "name": "python3"
  },
  "language_info": {
   "codemirror_mode": {
    "name": "ipython",
    "version": 3
   },
   "file_extension": ".py",
   "mimetype": "text/x-python",
   "name": "python",
   "nbconvert_exporter": "python",
   "pygments_lexer": "ipython3",
   "version": "3.10.9"
  }
 },
 "nbformat": 4,
 "nbformat_minor": 5
}
